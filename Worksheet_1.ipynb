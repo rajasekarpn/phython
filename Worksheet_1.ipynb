{
 "cells": [
  {
   "cell_type": "markdown",
   "id": "1f800459",
   "metadata": {},
   "source": [
    "#### 1.\tImport the necessary package to a.\tSet the current working directory b.\tChange the working directory\n"
   ]
  },
  {
   "cell_type": "code",
   "execution_count": 34,
   "id": "c2525ac0",
   "metadata": {},
   "outputs": [],
   "source": [
    "import os"
   ]
  },
  {
   "cell_type": "code",
   "execution_count": 37,
   "id": "a01fac5e",
   "metadata": {},
   "outputs": [
    {
     "data": {
      "text/plain": [
       "'C:\\\\Raj\\\\DataScience\\\\Phython'"
      ]
     },
     "execution_count": 37,
     "metadata": {},
     "output_type": "execute_result"
    }
   ],
   "source": [
    "os.getcwd()"
   ]
  },
  {
   "cell_type": "code",
   "execution_count": 44,
   "id": "5bf7b6b6",
   "metadata": {},
   "outputs": [],
   "source": [
    "os.chdir('C:\\Raj\\DataScience')"
   ]
  },
  {
   "cell_type": "code",
   "execution_count": 41,
   "id": "ba89489d",
   "metadata": {},
   "outputs": [
    {
     "data": {
      "text/plain": [
       "'C:\\\\Raj\\\\DataScience'"
      ]
     },
     "execution_count": 41,
     "metadata": {},
     "output_type": "execute_result"
    }
   ],
   "source": [
    "os.getcwd()"
   ]
  },
  {
   "cell_type": "code",
   "execution_count": 46,
   "id": "3f7af831",
   "metadata": {},
   "outputs": [],
   "source": [
    "os.chdir('C:\\Raj\\DataScience\\Phython')"
   ]
  },
  {
   "cell_type": "code",
   "execution_count": 47,
   "id": "e7fe9475",
   "metadata": {},
   "outputs": [
    {
     "data": {
      "text/plain": [
       "'C:\\\\Raj\\\\DataScience\\\\Phython'"
      ]
     },
     "execution_count": 47,
     "metadata": {},
     "output_type": "execute_result"
    }
   ],
   "source": [
    "os.getcwd()"
   ]
  },
  {
   "cell_type": "markdown",
   "id": "35959f55",
   "metadata": {},
   "source": [
    "### Create the string, int and float variable and delete them all in the next cell"
   ]
  },
  {
   "cell_type": "code",
   "execution_count": 48,
   "id": "20be0eeb",
   "metadata": {},
   "outputs": [
    {
     "name": "stdout",
     "output_type": "stream",
     "text": [
      "First String\n",
      "10\n",
      "10.7\n"
     ]
    }
   ],
   "source": [
    "var_str1 = 'First String' \n",
    "var_num1 = 10\n",
    "var_float1 = 10.7\n",
    "print(var_str1)\n",
    "print(var_num1)\n",
    "print(var_float1)"
   ]
  },
  {
   "cell_type": "code",
   "execution_count": 49,
   "id": "f5000618",
   "metadata": {},
   "outputs": [],
   "source": [
    "del var_str1,var_num1,var_float1"
   ]
  },
  {
   "cell_type": "code",
   "execution_count": 50,
   "id": "c827bc46",
   "metadata": {},
   "outputs": [
    {
     "ename": "NameError",
     "evalue": "name 'var_str1' is not defined",
     "output_type": "error",
     "traceback": [
      "\u001b[1;31m---------------------------------------------------------------------------\u001b[0m",
      "\u001b[1;31mNameError\u001b[0m                                 Traceback (most recent call last)",
      "\u001b[1;32m~\\AppData\\Local\\Temp/ipykernel_4388/2664132759.py\u001b[0m in \u001b[0;36m<module>\u001b[1;34m\u001b[0m\n\u001b[1;32m----> 1\u001b[1;33m \u001b[0mprint\u001b[0m\u001b[1;33m(\u001b[0m\u001b[0mvar_str1\u001b[0m\u001b[1;33m)\u001b[0m\u001b[1;33m\u001b[0m\u001b[1;33m\u001b[0m\u001b[0m\n\u001b[0m",
      "\u001b[1;31mNameError\u001b[0m: name 'var_str1' is not defined"
     ]
    }
   ],
   "source": [
    "print(var_str1)"
   ]
  },
  {
   "cell_type": "code",
   "execution_count": 51,
   "id": "18b6820f",
   "metadata": {},
   "outputs": [
    {
     "ename": "NameError",
     "evalue": "name 'var_float1' is not defined",
     "output_type": "error",
     "traceback": [
      "\u001b[1;31m---------------------------------------------------------------------------\u001b[0m",
      "\u001b[1;31mNameError\u001b[0m                                 Traceback (most recent call last)",
      "\u001b[1;32m~\\AppData\\Local\\Temp/ipykernel_4388/4180686697.py\u001b[0m in \u001b[0;36m<module>\u001b[1;34m\u001b[0m\n\u001b[1;32m----> 1\u001b[1;33m \u001b[0mprint\u001b[0m\u001b[1;33m(\u001b[0m\u001b[0mvar_float1\u001b[0m\u001b[1;33m)\u001b[0m\u001b[1;33m\u001b[0m\u001b[1;33m\u001b[0m\u001b[0m\n\u001b[0m",
      "\u001b[1;31mNameError\u001b[0m: name 'var_float1' is not defined"
     ]
    }
   ],
   "source": [
    "print(var_float1)"
   ]
  },
  {
   "cell_type": "code",
   "execution_count": 52,
   "id": "c893cf21",
   "metadata": {},
   "outputs": [
    {
     "ename": "NameError",
     "evalue": "name 'var_num1' is not defined",
     "output_type": "error",
     "traceback": [
      "\u001b[1;31m---------------------------------------------------------------------------\u001b[0m",
      "\u001b[1;31mNameError\u001b[0m                                 Traceback (most recent call last)",
      "\u001b[1;32m~\\AppData\\Local\\Temp/ipykernel_4388/1786222276.py\u001b[0m in \u001b[0;36m<module>\u001b[1;34m\u001b[0m\n\u001b[1;32m----> 1\u001b[1;33m \u001b[0mprint\u001b[0m\u001b[1;33m(\u001b[0m\u001b[0mvar_num1\u001b[0m\u001b[1;33m)\u001b[0m\u001b[1;33m\u001b[0m\u001b[1;33m\u001b[0m\u001b[0m\n\u001b[0m",
      "\u001b[1;31mNameError\u001b[0m: name 'var_num1' is not defined"
     ]
    }
   ],
   "source": [
    "print(var_num1)"
   ]
  },
  {
   "cell_type": "markdown",
   "id": "a7e5af96",
   "metadata": {},
   "source": [
    "### What’s the result of assigning a value to a ‘keyword’"
   ]
  },
  {
   "cell_type": "code",
   "execution_count": 53,
   "id": "b2447967",
   "metadata": {},
   "outputs": [
    {
     "ename": "SyntaxError",
     "evalue": "cannot assign to True (Temp/ipykernel_4388/1060292360.py, line 1)",
     "output_type": "error",
     "traceback": [
      "\u001b[1;36m  File \u001b[1;32m\"C:\\Users\\1908\\AppData\\Local\\Temp/ipykernel_4388/1060292360.py\"\u001b[1;36m, line \u001b[1;32m1\u001b[0m\n\u001b[1;33m    True = 'aa'\u001b[0m\n\u001b[1;37m    ^\u001b[0m\n\u001b[1;31mSyntaxError\u001b[0m\u001b[1;31m:\u001b[0m cannot assign to True\n"
     ]
    }
   ],
   "source": [
    "True = 'aa'"
   ]
  },
  {
   "cell_type": "markdown",
   "id": "b741266c",
   "metadata": {},
   "source": [
    "### How to write a multi-line statement and assign it to a variable"
   ]
  },
  {
   "cell_type": "code",
   "execution_count": 54,
   "id": "7e53b17f",
   "metadata": {},
   "outputs": [
    {
     "name": "stdout",
     "output_type": "stream",
     "text": [
      "17\n"
     ]
    }
   ],
   "source": [
    "var_num2 = (1 + 2 + 3 +\n",
    "           5 + 6)\n",
    "print(var_num2)"
   ]
  },
  {
   "cell_type": "markdown",
   "id": "51d09c97",
   "metadata": {},
   "source": [
    "### Print the list of numbers from 100 to 999 with an interval (step size) of 8 between the numbers"
   ]
  },
  {
   "cell_type": "code",
   "execution_count": 55,
   "id": "22a7f1ed",
   "metadata": {},
   "outputs": [
    {
     "name": "stdout",
     "output_type": "stream",
     "text": [
      "[100, 108, 116, 124, 132, 140, 148, 156, 164, 172, 180, 188, 196, 204, 212, 220, 228, 236, 244, 252, 260, 268, 276, 284, 292, 300, 308, 316, 324, 332, 340, 348, 356, 364, 372, 380, 388, 396, 404, 412, 420, 428, 436, 444, 452, 460, 468, 476, 484, 492, 500, 508, 516, 524, 532, 540, 548, 556, 564, 572, 580, 588, 596, 604, 612, 620, 628, 636, 644, 652, 660, 668, 676, 684, 692, 700, 708, 716, 724, 732, 740, 748, 756, 764, 772, 780, 788, 796, 804, 812, 820, 828, 836, 844, 852, 860, 868, 876, 884, 892, 900, 908, 916, 924, 932, 940, 948, 956, 964, 972, 980, 988, 996]\n"
     ]
    }
   ],
   "source": [
    "print(list(range(100,999,8)))"
   ]
  },
  {
   "cell_type": "markdown",
   "id": "d86597d8",
   "metadata": {},
   "source": [
    "### Write a “for” loop to print out the ‘n’ values and break out of the statement if the value is ‘n/2’"
   ]
  },
  {
   "cell_type": "code",
   "execution_count": 56,
   "id": "56b4506e",
   "metadata": {},
   "outputs": [
    {
     "name": "stdout",
     "output_type": "stream",
     "text": [
      "0\n",
      "1\n",
      "2\n",
      "3\n",
      "4\n"
     ]
    }
   ],
   "source": [
    "var_num2 = 10\n",
    "for i in range(var_num2):\n",
    "    if (i == var_num2/2):\n",
    "        break\n",
    "    else:\n",
    "        print(i)"
   ]
  },
  {
   "cell_type": "markdown",
   "id": "8ee68456",
   "metadata": {},
   "source": [
    "### Write a simple function and call the docstring from outside the function"
   ]
  },
  {
   "cell_type": "code",
   "execution_count": 57,
   "id": "0e222ec2",
   "metadata": {},
   "outputs": [],
   "source": [
    "def doc_string_func():\n",
    "    \"\"\" This function is create doc string \"\"\"\n",
    "    var1= 'Doc String'\n",
    "    print(var1)"
   ]
  },
  {
   "cell_type": "code",
   "execution_count": 58,
   "id": "12846157",
   "metadata": {},
   "outputs": [
    {
     "name": "stdout",
     "output_type": "stream",
     "text": [
      " This function is create doc string \n"
     ]
    }
   ],
   "source": [
    "print(doc_string_func.__doc__)"
   ]
  },
  {
   "cell_type": "markdown",
   "id": "e5769bbb",
   "metadata": {},
   "source": [
    "###### Create a user-defined package in ‘site-packages’ with below 3 variables a, b and c. Import these variables and write a function to calculate the area of triangle for below 3 sides (a, b, c). \n",
    "Calculate the semi-perimeter (s) first, to calculate the area of triangle (area) at last \n",
    "<< Formula to calculate semi-perimeter: s = (a+b+c )/2 \n",
    "<< Formula to calculate area = (s*(s-a) * (s-b) * (s-c)) ** 0.5  \n",
    "a.\t15 \n",
    "b.\t51 \n",
    "c.\t17\n"
   ]
  },
  {
   "cell_type": "code",
   "execution_count": 62,
   "id": "5825b396",
   "metadata": {},
   "outputs": [
    {
     "name": "stdout",
     "output_type": "stream",
     "text": [
      "(3.097937745838546e-14+505.93162828587816j)\n"
     ]
    }
   ],
   "source": [
    "from my_package import triangle_area_peri as tap\n",
    "var_area = tap.tri_area_func(15,51,17)\n",
    "print(var_area)"
   ]
  },
  {
   "cell_type": "markdown",
   "id": "ffe2de34",
   "metadata": {},
   "source": [
    "##### Write a list comprehension to print the odd numbers from 0 to 100"
   ]
  },
  {
   "cell_type": "code",
   "execution_count": 64,
   "id": "cce0fd3c",
   "metadata": {},
   "outputs": [
    {
     "name": "stdout",
     "output_type": "stream",
     "text": [
      "[1, 3, 5, 7, 9, 11, 13, 15, 17, 19, 21, 23, 25, 27, 29, 31, 33, 35, 37, 39, 41, 43, 45, 47, 49, 51, 53, 55, 57, 59, 61, 63, 65, 67, 69, 71, 73, 75, 77, 79, 81, 83, 85, 87, 89, 91, 93, 95, 97, 99]\n"
     ]
    }
   ],
   "source": [
    "var_odd = [a for a in range(0,100,1) if a%2 != 0]\n",
    "print(var_odd)"
   ]
  },
  {
   "cell_type": "markdown",
   "id": "0e7c44b4",
   "metadata": {},
   "source": [
    "###### Create a variable (ex: name) and store your full name in it. Then write a list comprehension to print your name excluding vowels (a, e, i, o, u)\n",
    "a.\tEx: name = Imran\n",
    "b.\tOutput = [‘m’, ‘r’, ‘n’]\n"
   ]
  },
  {
   "cell_type": "code",
   "execution_count": 67,
   "id": "ea7532f1",
   "metadata": {},
   "outputs": [
    {
     "name": "stdout",
     "output_type": "stream",
     "text": [
      "['R', 'j', 's', 'k', 'r', 'n']\n"
     ]
    }
   ],
   "source": [
    "var_name = 'Rajasekaran'\n",
    "var_vowels = ['a','e','i','o','u']\n",
    "var_out = [a for a in var_name if a not in var_vowels]\n",
    "print(var_out)"
   ]
  }
 ],
 "metadata": {
  "kernelspec": {
   "display_name": "Python 3 (ipykernel)",
   "language": "python",
   "name": "python3"
  },
  "language_info": {
   "codemirror_mode": {
    "name": "ipython",
    "version": 3
   },
   "file_extension": ".py",
   "mimetype": "text/x-python",
   "name": "python",
   "nbconvert_exporter": "python",
   "pygments_lexer": "ipython3",
   "version": "3.9.7"
  }
 },
 "nbformat": 4,
 "nbformat_minor": 5
}
